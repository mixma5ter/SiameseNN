{
 "cells": [
  {
   "cell_type": "markdown",
   "source": [
    "#### Подготовка данных\n",
    "\n",
    "Преобразование изображений в массив\n",
    "Создание пар изображений для обучения"
   ],
   "metadata": {
    "collapsed": false,
    "pycharm": {
     "name": "#%% md\n"
    }
   }
  },
  {
   "cell_type": "code",
   "execution_count": 1,
   "outputs": [],
   "source": [
    "import os\n",
    "from random import randint\n",
    "import numpy as np\n",
    "\n",
    "from numpy import asarray\n",
    "from IPython import display\n",
    "from PIL import Image\n",
    "\n",
    "from config import DATA_DIR, IMAGES_DIR, IMAGE_SIZE"
   ],
   "metadata": {
    "collapsed": false,
    "pycharm": {
     "name": "#%%\n"
    }
   }
  },
  {
   "cell_type": "markdown",
   "source": [
    "Создание списка пар директорий и имен изображений"
   ],
   "metadata": {
    "collapsed": false,
    "pycharm": {
     "name": "#%% md\n"
    }
   }
  },
  {
   "cell_type": "code",
   "execution_count": 2,
   "outputs": [],
   "source": [
    "path_file_pairs = []\n",
    "\n",
    "for dirpath, dirnames, filenames in os.walk(IMAGES_DIR):\n",
    "    for filename in filenames:\n",
    "        path_file_pairs.append([dirpath, filename])\n"
   ],
   "metadata": {
    "collapsed": false,
    "pycharm": {
     "name": "#%%\n"
    }
   }
  },
  {
   "cell_type": "code",
   "execution_count": 3,
   "outputs": [
    {
     "data": {
      "text/plain": "400"
     },
     "execution_count": 3,
     "metadata": {},
     "output_type": "execute_result"
    }
   ],
   "source": [
    "len(path_file_pairs)"
   ],
   "metadata": {
    "collapsed": false,
    "pycharm": {
     "name": "#%%\n"
    }
   }
  },
  {
   "cell_type": "code",
   "execution_count": 4,
   "outputs": [
    {
     "data": {
      "image/jpeg": "[encoded data removed]",
      "text/plain": "<IPython.core.display.Image object>"
     },
     "execution_count": 4,
     "metadata": {},
     "output_type": "execute_result"
    }
   ],
   "source": [
    "display.Image(f'{path_file_pairs[0][0]}\\\\{path_file_pairs[0][1]}')"
   ],
   "metadata": {
    "collapsed": false,
    "pycharm": {
     "name": "#%%\n"
    }
   }
  },
  {
   "cell_type": "markdown",
   "source": [
    "Функция преобразования изображения в массив"
   ],
   "metadata": {
    "collapsed": false,
    "pycharm": {
     "name": "#%% md\n"
    }
   }
  },
  {
   "cell_type": "code",
   "execution_count": 5,
   "outputs": [],
   "source": [
    "def read_image(filename):\n",
    "    img = Image.open(filename)\n",
    "    img = img.resize((IMAGE_SIZE, IMAGE_SIZE), resample=0)\n",
    "    img = asarray(img)\n",
    "    img = img / 255.\n",
    "    return img"
   ],
   "metadata": {
    "collapsed": false,
    "pycharm": {
     "name": "#%%\n"
    }
   }
  },
  {
   "cell_type": "markdown",
   "source": [
    "Генерируем массивы пар изображений\n",
    "\n",
    "1800 одинаковых пар монет и 1800 разных"
   ],
   "metadata": {
    "collapsed": false,
    "pycharm": {
     "name": "#%% md\n"
    }
   }
  },
  {
   "cell_type": "code",
   "execution_count": 6,
   "outputs": [],
   "source": [
    "pair_list = []\n",
    "labels = []\n",
    "\n",
    "folders = 40\n",
    "files = 10\n",
    "\n",
    "for i in range(len(path_file_pairs)):\n",
    "    for j in range(i + 1, len(path_file_pairs)):\n",
    "        img_1_path, img_2_path = path_file_pairs[i][0], path_file_pairs[j][0]\n",
    "        img_1_name, img_2_name = path_file_pairs[i][1], path_file_pairs[j][1]\n",
    "\n",
    "        if img_1_path == img_2_path:\n",
    "            img_1 = f'{img_1_path}\\\\{img_1_name}'\n",
    "            img_2 = f'{img_2_path}\\\\{img_2_name}'\n",
    "            new_row = [read_image(img_1), read_image(img_2)]\n",
    "            pair_list.append(new_row)\n",
    "            labels.append(1)\n",
    "\n",
    "for i in range(len(pair_list)):\n",
    "    k = randint(0, len(path_file_pairs) - 1)\n",
    "    m = k\n",
    "    while k == m:\n",
    "        m = randint(0, len(path_file_pairs) - 1)\n",
    "    img_1_path, img_2_path = path_file_pairs[k][0], path_file_pairs[m][0]\n",
    "    img_1_name, img_2_name = path_file_pairs[k][1], path_file_pairs[m][1]\n",
    "    img_1 = f'{img_1_path}\\\\{img_1_name}'\n",
    "    img_2 = f'{img_2_path}\\\\{img_2_name}'\n",
    "    new_row = [read_image(img_1), read_image(img_2)]\n",
    "    pair_list.append(new_row)\n",
    "    labels.append(0)\n",
    "\n",
    "pairs = np.array(pair_list)\n",
    "labels = np.array(labels)"
   ],
   "metadata": {
    "collapsed": false,
    "pycharm": {
     "name": "#%%\n"
    }
   }
  },
  {
   "cell_type": "code",
   "execution_count": 7,
   "outputs": [
    {
     "data": {
      "text/plain": "(3600, 2, 128, 128)"
     },
     "execution_count": 7,
     "metadata": {},
     "output_type": "execute_result"
    }
   ],
   "source": [
    "pairs.shape"
   ],
   "metadata": {
    "collapsed": false,
    "pycharm": {
     "name": "#%%\n"
    }
   }
  },
  {
   "cell_type": "code",
   "execution_count": 8,
   "outputs": [
    {
     "data": {
      "text/plain": "(3600,)"
     },
     "execution_count": 8,
     "metadata": {},
     "output_type": "execute_result"
    }
   ],
   "source": [
    "labels.shape"
   ],
   "metadata": {
    "collapsed": false,
    "pycharm": {
     "name": "#%%\n"
    }
   }
  },
  {
   "cell_type": "markdown",
   "source": [
    "Сохраняем массивы для дальнейшего использования"
   ],
   "metadata": {
    "collapsed": false,
    "pycharm": {
     "name": "#%% md\n"
    }
   }
  },
  {
   "cell_type": "code",
   "execution_count": 10,
   "outputs": [],
   "source": [
    "if not os.path.exists(DATA_DIR):\n",
    "    os.makedirs(DATA_DIR)\n",
    "\n",
    "np.save(f'{DATA_DIR}/pairs', pairs)\n",
    "np.save(f'{DATA_DIR}/labels', labels)"
   ],
   "metadata": {
    "collapsed": false,
    "pycharm": {
     "name": "#%%\n"
    }
   }
  }
 ],
 "metadata": {
  "kernelspec": {
   "display_name": "Python 3",
   "language": "python",
   "name": "python3"
  },
  "language_info": {
   "codemirror_mode": {
    "name": "ipython",
    "version": 2
   },
   "file_extension": ".py",
   "mimetype": "text/x-python",
   "name": "python",
   "nbconvert_exporter": "python",
   "pygments_lexer": "ipython2",
   "version": "2.7.6"
  }
 },
 "nbformat": 4,
 "nbformat_minor": 0
}