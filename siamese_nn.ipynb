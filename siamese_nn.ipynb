{
 "cells": [
  {
   "cell_type": "markdown",
   "source": [
    "#### Создание и обучение сети"
   ],
   "metadata": {
    "collapsed": false,
    "pycharm": {
     "name": "#%% md\n"
    }
   }
  },
  {
   "cell_type": "code",
   "execution_count": null,
   "metadata": {
    "collapsed": true,
    "pycharm": {
     "name": "#%%\n"
    }
   },
   "outputs": [],
   "source": [
    "import numpy as np\n",
    "from sklearn.model_selection import train_test_split\n",
    "\n",
    "SIZE = 128\n",
    "DATA_DIR = 'data'"
   ]
  },
  {
   "cell_type": "code",
   "execution_count": null,
   "outputs": [],
   "source": [
    "pairs = np.load(f'{DATA_DIR}/pairs.npy', mmap_mode='r+')\n",
    "labels = np.load(f'{DATA_DIR}/labels.npy', mmap_mode='r+')"
   ],
   "metadata": {
    "collapsed": false,
    "pycharm": {
     "name": "#%%\n"
    }
   }
  },
  {
   "cell_type": "code",
   "execution_count": null,
   "outputs": [],
   "source": [
    "pairs.shape, labels.shape"
   ],
   "metadata": {
    "collapsed": false,
    "pycharm": {
     "name": "#%%\n"
    }
   }
  },
  {
   "cell_type": "code",
   "execution_count": null,
   "outputs": [],
   "source": [
    "x = pairs[:, 0]  # Первое изображение\n",
    "y = pairs[:, 1]  # Второе изображение"
   ],
   "metadata": {
    "collapsed": false,
    "pycharm": {
     "name": "#%%\n"
    }
   }
  },
  {
   "cell_type": "markdown",
   "source": [
    "Разделение на обучающую и тестовую выборку"
   ],
   "metadata": {
    "collapsed": false,
    "pycharm": {
     "name": "#%% md\n"
    }
   }
  },
  {
   "cell_type": "code",
   "execution_count": null,
   "outputs": [],
   "source": [
    "X_train_pairs, X_test_pairs, y_train_pairs, y_test_pairs = train_test_split(pairs, labels, test_size=0.1, random_state=42)\n",
    "\n",
    "X_train_pairs.shape, y_train_pairs.shape, X_test_pairs.shape, y_test_pairs.shape"
   ],
   "metadata": {
    "collapsed": false,
    "pycharm": {
     "name": "#%%\n"
    }
   }
  },
  {
   "cell_type": "markdown",
   "source": [
    "#### Создаем модель"
   ],
   "metadata": {
    "collapsed": false,
    "pycharm": {
     "name": "#%% md\n"
    }
   }
  },
  {
   "cell_type": "code",
   "execution_count": null,
   "outputs": [],
   "source": [
    "from tensorflow.keras.layers import *\n",
    "from tensorflow.keras.models import Sequential, Model\n",
    "\n",
    "img_a_inp = Input((SIZE, SIZE), name='img_a_inp')\n",
    "img_b_inp = Input((SIZE, SIZE), name='img_b_inp')\n",
    "\n",
    "\n",
    "def get_cnn_block(depth):\n",
    "    return Sequential([Conv2D(depth, 3, 1),\n",
    "                       BatchNormalization(),\n",
    "                       ReLU()])\n",
    "\n",
    "\n",
    "DEPTH = 64\n",
    "cnn = Sequential([Reshape((SIZE, SIZE, 1)),\n",
    "                  get_cnn_block(DEPTH),\n",
    "                  get_cnn_block(DEPTH),\n",
    "                  get_cnn_block(DEPTH),\n",
    "                  GlobalAveragePooling2D(),\n",
    "                  Dropout(0.2),\n",
    "                  Flatten(),\n",
    "                  Dense(400, activation='relu')])\n",
    "\n",
    "\n",
    "feature_vector_A = cnn(img_a_inp)\n",
    "feature_vector_B = cnn(img_b_inp)\n",
    "\n",
    "concat = Concatenate()([feature_vector_A, feature_vector_B])\n",
    "\n",
    "dense = Dense(200, activation='relu')(concat)\n",
    "dropout = Dropout(0.5)(dense)\n",
    "output = Dense(1, activation='sigmoid')(dropout)\n",
    "\n",
    "model = Model(inputs=[img_a_inp, img_b_inp], outputs=output)\n",
    "\n",
    "model.summary()"
   ],
   "metadata": {
    "collapsed": false,
    "pycharm": {
     "name": "#%%\n"
    }
   }
  },
  {
   "cell_type": "code",
   "execution_count": null,
   "outputs": [],
   "source": [
    "from tensorflow.keras.optimizers import Adam\n",
    "\n",
    "model.compile(loss='binary_crossentropy',\n",
    "              optimizer=Adam(learning_rate=0.001),\n",
    "              metrics=['accuracy'])"
   ],
   "metadata": {
    "collapsed": false,
    "pycharm": {
     "name": "#%%\n"
    }
   }
  },
  {
   "cell_type": "markdown",
   "source": [
    "Функция просмотра процесса обучения\n",
    "\n",
    "Запуск через терминал `tensorboard --logdir=logs`"
   ],
   "metadata": {
    "collapsed": false,
    "pycharm": {
     "name": "#%% md\n"
    }
   }
  },
  {
   "cell_type": "code",
   "execution_count": null,
   "outputs": [],
   "source": [
    "from tensorflow.python.keras.callbacks import TensorBoard\n",
    "\n",
    "call = [TensorBoard(log_dir='logs', histogram_freq=1, write_images=True)]"
   ],
   "metadata": {
    "collapsed": false,
    "pycharm": {
     "name": "#%%\n"
    }
   }
  },
  {
   "cell_type": "markdown",
   "source": [
    "Функция обнаружения переобучения"
   ],
   "metadata": {
    "collapsed": false,
    "pycharm": {
     "name": "#%% md\n"
    }
   }
  },
  {
   "cell_type": "code",
   "execution_count": null,
   "outputs": [],
   "source": [
    "from tensorflow.keras.callbacks import EarlyStopping\n",
    "\n",
    "es = EarlyStopping(monitor='val_accuracy', patience=10, restore_best_weights=False,)"
   ],
   "metadata": {
    "collapsed": false,
    "pycharm": {
     "name": "#%%\n"
    }
   }
  },
  {
   "cell_type": "markdown",
   "source": [
    "Поиск оптимальных значений batch_size"
   ],
   "metadata": {
    "collapsed": false,
    "pycharm": {
     "name": "#%% md\n"
    }
   }
  },
  {
   "cell_type": "code",
   "execution_count": null,
   "outputs": [],
   "source": [
    "from itertools import chain\n",
    "divs = lambda n: chain(*((d, n // d) for d in range(1, int(n ** 0.5) + 1) if n % d == 0))\n",
    "print(sorted(list(divs(X_train_pairs.shape[0]))))"
   ],
   "metadata": {
    "collapsed": false,
    "pycharm": {
     "name": "#%%\n"
    }
   }
  },
  {
   "cell_type": "code",
   "execution_count": null,
   "outputs": [],
   "source": [
    "batch_size = 36"
   ],
   "metadata": {
    "collapsed": false,
    "pycharm": {
     "name": "#%%\n"
    }
   }
  },
  {
   "cell_type": "markdown",
   "source": [
    "#### Обучение\n",
    "\n",
    "При обучении используем только обучающую выборку\n",
    "с помощью validation_split разделяем ее на обучающую и валидационную"
   ],
   "metadata": {
    "collapsed": false,
    "pycharm": {
     "name": "#%% md\n"
    }
   }
  },
  {
   "cell_type": "code",
   "execution_count": null,
   "outputs": [],
   "source": [
    "model.fit(x=[X_train_pairs[:, 0, :, :], X_train_pairs[:, 1, :, :]],\n",
    "          y=y_train_pairs,\n",
    "          validation_split=0.25,\n",
    "          epochs=100,\n",
    "          batch_size=batch_size,\n",
    "          callbacks=[es, call])\n",
    "\n",
    "print('Обучение остановлено на эпохе', es.stopped_epoch)"
   ],
   "metadata": {
    "collapsed": false,
    "pycharm": {
     "name": "#%%\n"
    }
   }
  },
  {
   "cell_type": "code",
   "execution_count": null,
   "outputs": [],
   "source": [
    "model.save(f'model')"
   ],
   "metadata": {
    "collapsed": false,
    "pycharm": {
     "name": "#%%\n"
    }
   }
  },
  {
   "cell_type": "markdown",
   "source": [
    "#### Тест"
   ],
   "metadata": {
    "collapsed": false,
    "pycharm": {
     "name": "#%% md\n"
    }
   }
  },
  {
   "cell_type": "code",
   "execution_count": null,
   "outputs": [],
   "source": [
    "from tensorflow.python.keras.models import load_model\n",
    "\n",
    "model = load_model(f'model')"
   ],
   "metadata": {
    "collapsed": false,
    "pycharm": {
     "name": "#%%\n"
    }
   }
  },
  {
   "cell_type": "code",
   "execution_count": null,
   "outputs": [],
   "source": [
    "X_test_pairs.shape, y_test_pairs.shape"
   ],
   "metadata": {
    "collapsed": false,
    "pycharm": {
     "name": "#%%\n"
    }
   }
  },
  {
   "cell_type": "code",
   "execution_count": null,
   "outputs": [],
   "source": [
    "from random import randint\n",
    "\n",
    "right_answer = 0\n",
    "wrong_answer = 0\n",
    "\n",
    "for _ in range(100):\n",
    "    x = randint(0, X_test_pairs.shape[0] - 1)\n",
    "\n",
    "    img_A, img_B = X_test_pairs[x, 0, :, :], X_test_pairs[x, 1, :, :]\n",
    "    label = y_test_pairs[x]\n",
    "\n",
    "    pred = model.predict([img_A.reshape((1, SIZE, SIZE)),\n",
    "                          img_B.reshape((1, SIZE, SIZE))]).flatten()[0] > 0.5\n",
    "\n",
    "    if (label and pred) or (not label and not pred):\n",
    "        right_answer += 1\n",
    "    else:\n",
    "        wrong_answer += 1\n",
    "\n",
    "percent = int(100 / ((right_answer + wrong_answer) / right_answer))\n",
    "\n",
    "print(f'Процент правильных ответов: {percent}')"
   ],
   "metadata": {
    "collapsed": false,
    "pycharm": {
     "name": "#%%\n"
    }
   }
  },
  {
   "cell_type": "code",
   "execution_count": null,
   "outputs": [],
   "source": [
    "import matplotlib.pyplot as plt\n",
    "%matplotlib inline\n",
    "\n",
    "x = randint(0, X_test_pairs.shape[0] - 1)\n",
    "\n",
    "img_A, img_B = X_test_pairs[x, 0, :, :], X_test_pairs[x, 1, :, :]\n",
    "print(model.predict([img_A.reshape((1, 128, 128)),\n",
    "                     img_B.reshape((1, 128, 128))]).flatten()[0] > 0.5)\n",
    "\n",
    "pic_box = plt.figure(figsize=(32, 16))\n",
    "for i, picture in enumerate([img_A, img_B]):\n",
    "    pic_box.add_subplot(2, 5, i + 1)\n",
    "    plt.imshow(picture, cmap='gray')\n",
    "    plt.axis('off')\n",
    "plt.show()"
   ],
   "metadata": {
    "collapsed": false,
    "pycharm": {
     "name": "#%%\n"
    }
   }
  }
 ],
 "metadata": {
  "kernelspec": {
   "display_name": "Python 3",
   "language": "python",
   "name": "python3"
  },
  "language_info": {
   "codemirror_mode": {
    "name": "ipython",
    "version": 2
   },
   "file_extension": ".py",
   "mimetype": "text/x-python",
   "name": "python",
   "nbconvert_exporter": "python",
   "pygments_lexer": "ipython2",
   "version": "2.7.6"
  }
 },
 "nbformat": 4,
 "nbformat_minor": 0
}