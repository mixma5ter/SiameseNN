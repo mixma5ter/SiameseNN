{
 "cells": [
  {
   "cell_type": "markdown",
   "source": [
    "#### Подготовка изображений\n",
    "\n",
    "Изменение размера - 128x128\n",
    "Конвертация в ч/б"
   ],
   "metadata": {
    "collapsed": false,
    "pycharm": {
     "name": "#%% md\n"
    }
   }
  },
  {
   "cell_type": "code",
   "execution_count": 1,
   "metadata": {
    "collapsed": true,
    "pycharm": {
     "name": "#%%\n"
    }
   },
   "outputs": [],
   "source": [
    "import os\n",
    "from PIL import Image, ImageFilter\n",
    "\n",
    "from config import IMAGES_DIR, IMAGE_SIZE"
   ]
  },
  {
   "cell_type": "code",
   "execution_count": 2,
   "outputs": [],
   "source": [
    "def save_image(filename):\n",
    "    img = Image.open(filename)\n",
    "    img = img.resize((IMAGE_SIZE, IMAGE_SIZE), resample=0)\n",
    "    img = img.convert('CMYK').convert('L')\n",
    "    img = img.filter(ImageFilter.SMOOTH)\n",
    "    img = img.filter(ImageFilter.EDGE_ENHANCE)\n",
    "    img.save(filename)"
   ],
   "metadata": {
    "collapsed": false,
    "pycharm": {
     "name": "#%%\n"
    }
   }
  },
  {
   "cell_type": "code",
   "execution_count": 3,
   "outputs": [],
   "source": [
    "for dirpath, dirnames, filenames in os.walk(IMAGES_DIR):\n",
    "    for filename in filenames:\n",
    "        filepath = f'{dirpath}\\\\{filename}'\n",
    "        save_image(filepath)"
   ],
   "metadata": {
    "collapsed": false,
    "pycharm": {
     "name": "#%%\n"
    }
   }
  }
 ],
 "metadata": {
  "kernelspec": {
   "display_name": "Python 3",
   "language": "python",
   "name": "python3"
  },
  "language_info": {
   "codemirror_mode": {
    "name": "ipython",
    "version": 2
   },
   "file_extension": ".py",
   "mimetype": "text/x-python",
   "name": "python",
   "nbconvert_exporter": "python",
   "pygments_lexer": "ipython2",
   "version": "2.7.6"
  }
 },
 "nbformat": 4,
 "nbformat_minor": 0
}