{
 "cells": [
  {
   "cell_type": "markdown",
   "source": [
    "#### Оптимизация гиперпараметров\n",
    "\n",
    "Поиск оптимального количества нейронов в слоях"
   ],
   "metadata": {
    "collapsed": false,
    "pycharm": {
     "name": "#%% md\n"
    }
   }
  },
  {
   "cell_type": "code",
   "execution_count": null,
   "outputs": [],
   "source": [
    "from keras_tuner.tuners import BayesianOptimization\n",
    "import numpy as np\n",
    "from sklearn.model_selection import train_test_split\n",
    "\n",
    "from config import DATA_DIR"
   ],
   "metadata": {
    "collapsed": false,
    "pycharm": {
     "name": "#%%\n"
    }
   }
  },
  {
   "cell_type": "code",
   "execution_count": null,
   "outputs": [],
   "source": [
    "pairs = np.load(f'{DATA_DIR}/pairs.npy', mmap_mode='r+')\n",
    "labels = np.load(f'{DATA_DIR}/labels.npy', mmap_mode='r+')"
   ],
   "metadata": {
    "collapsed": false,
    "pycharm": {
     "name": "#%%\n"
    }
   }
  },
  {
   "cell_type": "code",
   "execution_count": null,
   "outputs": [],
   "source": [
    "pairs.shape, labels.shape"
   ],
   "metadata": {
    "collapsed": false,
    "pycharm": {
     "name": "#%%\n"
    }
   }
  },
  {
   "cell_type": "code",
   "execution_count": null,
   "outputs": [],
   "source": [
    "X_train_pairs, X_test_pairs, y_train_pairs, y_test_pairs = train_test_split(pairs, labels, test_size=0.1, random_state=42)\n",
    "\n",
    "X_train_pairs.shape, y_train_pairs.shape, X_test_pairs.shape, y_test_pairs.shape"
   ],
   "metadata": {
    "collapsed": false,
    "pycharm": {
     "name": "#%%\n"
    }
   }
  },
  {
   "cell_type": "markdown",
   "source": [
    "Функция создания нейронной сети с изменением гиперпараметров"
   ],
   "metadata": {
    "collapsed": false,
    "pycharm": {
     "name": "#%% md\n"
    }
   }
  },
  {
   "cell_type": "code",
   "execution_count": null,
   "outputs": [],
   "source": [
    "from tensorflow.keras.layers import *\n",
    "from tensorflow.keras.models import Sequential, Model\n",
    "from tensorflow.keras.optimizers import Adam\n",
    "\n",
    "def get_cnn_block(depth):\n",
    "    return Sequential([Conv2D(depth, 3, 1),\n",
    "                       BatchNormalization(),\n",
    "                       ReLU()])\n",
    "\n",
    "def build_model(hp):\n",
    "\n",
    "    IS = 128\n",
    "\n",
    "    img_a_inp = Input((IS, IS), name='img_a_inp')\n",
    "    img_b_inp = Input((IS, IS), name='img_b_inp')\n",
    "\n",
    "    DEPTH = 64\n",
    "    cnn = Sequential([Reshape((IS, IS, 1)),\n",
    "                      get_cnn_block(DEPTH),\n",
    "                      get_cnn_block(DEPTH * 2),\n",
    "                      GlobalAveragePooling2D(),\n",
    "                      Dropout(0.2),\n",
    "                      Flatten(),\n",
    "                      Dense(units=hp.Int('dense1_units_input',\n",
    "                                         min_value=64,\n",
    "                                         max_value=512,\n",
    "                                         step=32),\n",
    "                            activation='relu')])\n",
    "\n",
    "    feature_vector_A = cnn(img_a_inp)\n",
    "    feature_vector_B = cnn(img_b_inp)\n",
    "\n",
    "    concat = Concatenate()([feature_vector_A, feature_vector_B])\n",
    "\n",
    "    dense = Dense(units=hp.Int('dense2_units_input',\n",
    "                               min_value=64,\n",
    "                               max_value=512,\n",
    "                               step=32),\n",
    "                  activation='relu')(concat)\n",
    "    dropout = Dropout(0.5)(dense)\n",
    "    output = Dense(1, activation='sigmoid')(dropout)\n",
    "\n",
    "    model = Model(inputs=[img_a_inp, img_b_inp], outputs=output)\n",
    "\n",
    "    model.compile(loss='binary_crossentropy',\n",
    "                  optimizer=Adam(learning_rate=0.001),\n",
    "                  metrics=['accuracy'])\n",
    "    return model"
   ],
   "metadata": {
    "collapsed": false,
    "pycharm": {
     "name": "#%%\n"
    }
   }
  },
  {
   "cell_type": "markdown",
   "source": [
    "Настройки тюнера"
   ],
   "metadata": {
    "collapsed": false,
    "pycharm": {
     "name": "#%% md\n"
    }
   }
  },
  {
   "cell_type": "code",
   "execution_count": null,
   "outputs": [],
   "source": [
    "tuner = BayesianOptimization(\n",
    "    build_model,\n",
    "    objective='val_accuracy',\n",
    "    max_trials=10,  # нужно несколько сотен\n",
    "    directory='test_directory')"
   ],
   "metadata": {
    "collapsed": false,
    "pycharm": {
     "name": "#%%\n"
    }
   }
  },
  {
   "cell_type": "markdown",
   "source": [
    "Пространство поиска"
   ],
   "metadata": {
    "collapsed": false,
    "pycharm": {
     "name": "#%% md\n"
    }
   }
  },
  {
   "cell_type": "code",
   "execution_count": null,
   "outputs": [],
   "source": [
    "tuner.search_space_summary()"
   ],
   "metadata": {
    "collapsed": false,
    "pycharm": {
     "name": "#%%\n"
    }
   }
  },
  {
   "cell_type": "markdown",
   "source": [
    "Подбор гиперпараметров"
   ],
   "metadata": {
    "collapsed": false,
    "pycharm": {
     "name": "#%% md\n"
    }
   }
  },
  {
   "cell_type": "code",
   "execution_count": null,
   "outputs": [],
   "source": [
    "tuner.search(x=[X_train_pairs[:, 0, :, :], X_train_pairs[:, 1, :, :]],\n",
    "             y=y_train_pairs,\n",
    "             batch_size=36,\n",
    "             epochs=5,\n",
    "             validation_split=0.2,\n",
    "             verbose=1)"
   ],
   "metadata": {
    "collapsed": false,
    "pycharm": {
     "name": "#%%\n"
    }
   }
  },
  {
   "cell_type": "code",
   "execution_count": null,
   "outputs": [],
   "source": [
    "tuner.results_summary()"
   ],
   "metadata": {
    "collapsed": false,
    "pycharm": {
     "name": "#%%\n"
    }
   }
  },
  {
   "cell_type": "markdown",
   "source": [
    "Получаем три лучших модели"
   ],
   "metadata": {
    "collapsed": false,
    "pycharm": {
     "name": "#%% md\n"
    }
   }
  },
  {
   "cell_type": "code",
   "execution_count": null,
   "outputs": [],
   "source": [
    "models = tuner.get_best_models(num_models=3)"
   ],
   "metadata": {
    "collapsed": false,
    "pycharm": {
     "name": "#%%\n"
    }
   }
  },
  {
   "cell_type": "code",
   "execution_count": null,
   "outputs": [],
   "source": [
    "for model in models:\n",
    "    model.summary()"
   ],
   "metadata": {
    "collapsed": false,
    "pycharm": {
     "name": "#%%\n"
    }
   }
  }
 ],
 "metadata": {
  "kernelspec": {
   "display_name": "Python 3",
   "language": "python",
   "name": "python3"
  },
  "language_info": {
   "codemirror_mode": {
    "name": "ipython",
    "version": 2
   },
   "file_extension": ".py",
   "mimetype": "text/x-python",
   "name": "python",
   "nbconvert_exporter": "python",
   "pygments_lexer": "ipython2",
   "version": "2.7.6"
  }
 },
 "nbformat": 4,
 "nbformat_minor": 0
}